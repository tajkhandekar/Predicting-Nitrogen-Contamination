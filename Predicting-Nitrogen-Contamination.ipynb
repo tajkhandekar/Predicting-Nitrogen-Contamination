{
 "cells": [
  {
   "cell_type": "code",
   "execution_count": 44,
   "metadata": {},
   "outputs": [],
   "source": [
    "#import libraries\n",
    "import pandas\n",
    "import pandas as pd\n",
    "import numpy\n",
    "from numpy import arange\n",
    "#imported for data scaling\n",
    "from sklearn.preprocessing import MinMaxScaler\n",
    "#imported to split data into training and testing sets for each model\n",
    "from sklearn.model_selection import train_test_split\n",
    "from sklearn.model_selection import RepeatedKFold \n",
    "#import 3 models to compare accuracy\n",
    "from sklearn.linear_model import RidgeCV\n",
    "from sklearn.linear_model import ElasticNetCV\n",
    "from sklearn.linear_model import LassoCV\n",
    "#imported two metrics used to determine accuracy of models\n",
    "from sklearn.metrics import mean_squared_error\n",
    "from sklearn.metrics import r2_score"
   ]
  },
  {
   "cell_type": "code",
   "execution_count": 45,
   "metadata": {},
   "outputs": [],
   "source": [
    "#imports streamflow data from the 9 subbasins draining to the Mississippi-Atchafalaya basin, which drains into Gulf of Mexico (input)\n",
    "canneltondata = pd.read_csv('/Users/Taj/Desktop/github/Predicting-Nitrogen-Contamination/CleanData/canneltonmonthly.csv')\n",
    "canf = pd.DataFrame(canneltondata)\n",
    "\n",
    "clintondata = pd.read_csv('/Users/Taj/Desktop/github/Predicting-Nitrogen-Contamination/CleanData/clintonmonthly.csv')\n",
    "clintonf = pd.DataFrame(clintondata)\n",
    "\n",
    "graftondata = pd.read_csv('/Users/Taj/Desktop/github/Predicting-Nitrogen-Contamination/CleanData/graftonmonthly.csv')\n",
    "graftonf = pd.DataFrame(graftondata)\n",
    "\n",
    "grandchaindata = pd.read_csv('/Users/Taj//Desktop/github/Predicting-Nitrogen-Contamination/CleanData/grandchainmonthly.csv')\n",
    "grandf = pd.DataFrame(grandchaindata)\n",
    "\n",
    "hermandata = pd.read_csv('/Users/Taj/Desktop/github/Predicting-Nitrogen-Contamination/CleanData/hermanmonthly.csv')\n",
    "hermanf = pd.DataFrame(hermandata)\n",
    "\n",
    "littlerockdata = pd.read_csv('/Users/Taj/Desktop/github/Predicting-Nitrogen-Contamination/CleanData/littlerockmonthly.csv')\n",
    "littlef = pd.DataFrame(littlerockdata)\n",
    "\n",
    "omahadata = pd.read_csv('/Users/Taj/Desktop/github/Predicting-Nitrogen-Contamination/CleanData/omahamonthly.csv')\n",
    "omahaf = pd.DataFrame(omahadata)\n",
    "\n",
    "redriverdata = pd.read_csv('/Users/Taj/Desktop/github/Predicting-Nitrogen-Contamination/CleanData/redrockmonthly.csv')\n",
    "redf = pd.DataFrame(redriverdata)\n",
    "\n",
    "thebesdata = pd.read_csv('/Users/Taj/Desktop/github/Predicting-Nitrogen-Contamination/CleanData/thebesmonthly.csv')\n",
    "thebesf = pd.DataFrame(thebesdata)\n",
    "\n",
    "#imports monthly precipitation data in the Midwest (input)\n",
    "precipdata = pd.read_csv('/Users/Taj/Desktop/github/Predicting-Nitrogen-Contamination/CleanData/precipmonthly.csv')\n",
    "precipf = pd.DataFrame(precipdata)\n",
    "\n",
    "#imports data of nitrogen concentration in the Gulf of Mexico monthly (output)\n",
    "outputdata = pd.read_csv('/Users/Taj/Desktop/github/Predicting-Nitrogen-Contamination/CleanData/gulfmonthly.csv')\n",
    "outputdf = pd.DataFrame(outputdata)"
   ]
  },
  {
   "cell_type": "markdown",
   "metadata": {},
   "source": [
    "## Cleaning Data"
   ]
  },
  {
   "cell_type": "markdown",
   "metadata": {},
   "source": [
    "### Nitrogen Contamination in Gulf of Mexico (Output Data)"
   ]
  },
  {
   "cell_type": "code",
   "execution_count": 46,
   "metadata": {
    "scrolled": true
   },
   "outputs": [
    {
     "data": {
      "text/html": [
       "<div>\n",
       "<style scoped>\n",
       "    .dataframe tbody tr th:only-of-type {\n",
       "        vertical-align: middle;\n",
       "    }\n",
       "\n",
       "    .dataframe tbody tr th {\n",
       "        vertical-align: top;\n",
       "    }\n",
       "\n",
       "    .dataframe thead th {\n",
       "        text-align: right;\n",
       "    }\n",
       "</style>\n",
       "<table border=\"1\" class=\"dataframe\">\n",
       "  <thead>\n",
       "    <tr style=\"text-align: right;\">\n",
       "      <th></th>\n",
       "      <th>Months</th>\n",
       "      <th>Conc</th>\n",
       "    </tr>\n",
       "  </thead>\n",
       "  <tbody>\n",
       "    <tr>\n",
       "      <th>0</th>\n",
       "      <td>10/1/1978</td>\n",
       "      <td>22600.0</td>\n",
       "    </tr>\n",
       "    <tr>\n",
       "      <th>1</th>\n",
       "      <td>11/1/1978</td>\n",
       "      <td>18500.0</td>\n",
       "    </tr>\n",
       "    <tr>\n",
       "      <th>2</th>\n",
       "      <td>12/1/1978</td>\n",
       "      <td>65300.0</td>\n",
       "    </tr>\n",
       "    <tr>\n",
       "      <th>3</th>\n",
       "      <td>1/1/1979</td>\n",
       "      <td>75700.0</td>\n",
       "    </tr>\n",
       "    <tr>\n",
       "      <th>4</th>\n",
       "      <td>2/1/1979</td>\n",
       "      <td>68600.0</td>\n",
       "    </tr>\n",
       "  </tbody>\n",
       "</table>\n",
       "</div>"
      ],
      "text/plain": [
       "      Months     Conc\n",
       "0  10/1/1978  22600.0\n",
       "1  11/1/1978  18500.0\n",
       "2  12/1/1978  65300.0\n",
       "3   1/1/1979  75700.0\n",
       "4   2/1/1979  68600.0"
      ]
     },
     "execution_count": 46,
     "metadata": {},
     "output_type": "execute_result"
    }
   ],
   "source": [
    "#drops NaN (blank) values\n",
    "outputdf = outputdf.dropna()\n",
    "#renames columns to be more readable\n",
    "outputdf.columns = ['Months', 'Conc']\n",
    "#resets index to start from 0\n",
    "outputdf.reset_index(drop=True, inplace=True)\n",
    "outputdf.head()"
   ]
  },
  {
   "cell_type": "markdown",
   "metadata": {},
   "source": [
    "### Subbasin Streamflow (Input Data)"
   ]
  },
  {
   "cell_type": "code",
   "execution_count": 47,
   "metadata": {},
   "outputs": [],
   "source": [
    "#defines function to clean streamflow data, used by the 9 subbasins\n",
    "def cleansflow(name, dfname):\n",
    "    #renames columns to be more readable and standardized for each dataset\n",
    "    dfname.columns = ['Months', name + ' Streamflow']\n",
    "    #drops NaN (blank) values\n",
    "    dfname = dfname.dropna()"
   ]
  },
  {
   "cell_type": "code",
   "execution_count": 48,
   "metadata": {},
   "outputs": [],
   "source": [
    "#calls function to clean streamflow data for each of the 9 subbasins\n",
    "cleansflow('Clinton', clintonf)\n",
    "cleansflow('Grafton', graftonf)\n",
    "cleansflow('Herman', hermanf)\n",
    "cleansflow('Omaha', omahaf)\n",
    "cleansflow('Red River', redf)\n",
    "cleansflow('Cannelton', canf)\n",
    "cleansflow('Grand Chain', grandf)\n",
    "cleansflow('Little Rock', littlef)\n",
    "cleansflow('Thebes', thebesf)"
   ]
  },
  {
   "cell_type": "markdown",
   "metadata": {},
   "source": [
    "### Monthly Midwest Precipitation (Input Data)"
   ]
  },
  {
   "cell_type": "code",
   "execution_count": 49,
   "metadata": {},
   "outputs": [],
   "source": [
    "#renames Months column to be standardized with other dataframes\n",
    "precipf.columns = ['Months', 'Precip']"
   ]
  },
  {
   "cell_type": "markdown",
   "metadata": {},
   "source": [
    "## Merge All DataFrames"
   ]
  },
  {
   "cell_type": "code",
   "execution_count": 50,
   "metadata": {
    "scrolled": true
   },
   "outputs": [
    {
     "data": {
      "text/html": [
       "<div>\n",
       "<style scoped>\n",
       "    .dataframe tbody tr th:only-of-type {\n",
       "        vertical-align: middle;\n",
       "    }\n",
       "\n",
       "    .dataframe tbody tr th {\n",
       "        vertical-align: top;\n",
       "    }\n",
       "\n",
       "    .dataframe thead th {\n",
       "        text-align: right;\n",
       "    }\n",
       "</style>\n",
       "<table border=\"1\" class=\"dataframe\">\n",
       "  <thead>\n",
       "    <tr style=\"text-align: right;\">\n",
       "      <th></th>\n",
       "      <th>Months</th>\n",
       "      <th>Conc</th>\n",
       "      <th>Clinton Streamflow</th>\n",
       "      <th>Grafton Streamflow</th>\n",
       "      <th>Herman Streamflow</th>\n",
       "      <th>Omaha Streamflow</th>\n",
       "      <th>Red River Streamflow</th>\n",
       "      <th>Cannelton Streamflow</th>\n",
       "      <th>Grand Chain Streamflow</th>\n",
       "      <th>Little Rock Streamflow</th>\n",
       "      <th>Thebes Streamflow</th>\n",
       "      <th>Precip</th>\n",
       "    </tr>\n",
       "  </thead>\n",
       "  <tbody>\n",
       "    <tr>\n",
       "      <th>0</th>\n",
       "      <td>10/1/1978</td>\n",
       "      <td>22600.0</td>\n",
       "      <td>1080.0</td>\n",
       "      <td>1900.0</td>\n",
       "      <td>1920.0</td>\n",
       "      <td>1610.0</td>\n",
       "      <td>91.7</td>\n",
       "      <td>1250.0</td>\n",
       "      <td>2570.0</td>\n",
       "      <td>41.5</td>\n",
       "      <td>4100.0</td>\n",
       "      <td>1.89</td>\n",
       "    </tr>\n",
       "    <tr>\n",
       "      <th>1</th>\n",
       "      <td>11/1/1978</td>\n",
       "      <td>18500.0</td>\n",
       "      <td>910.0</td>\n",
       "      <td>1600.0</td>\n",
       "      <td>2200.0</td>\n",
       "      <td>1610.0</td>\n",
       "      <td>272.0</td>\n",
       "      <td>1840.0</td>\n",
       "      <td>3630.0</td>\n",
       "      <td>236.0</td>\n",
       "      <td>3940.0</td>\n",
       "      <td>2.87</td>\n",
       "    </tr>\n",
       "    <tr>\n",
       "      <th>2</th>\n",
       "      <td>12/1/1978</td>\n",
       "      <td>65300.0</td>\n",
       "      <td>593.0</td>\n",
       "      <td>1470.0</td>\n",
       "      <td>1530.0</td>\n",
       "      <td>895.0</td>\n",
       "      <td>412.0</td>\n",
       "      <td>9460.0</td>\n",
       "      <td>18500.0</td>\n",
       "      <td>422.0</td>\n",
       "      <td>3290.0</td>\n",
       "      <td>2.86</td>\n",
       "    </tr>\n",
       "    <tr>\n",
       "      <th>3</th>\n",
       "      <td>1/1/1979</td>\n",
       "      <td>75700.0</td>\n",
       "      <td>502.0</td>\n",
       "      <td>1140.0</td>\n",
       "      <td>917.0</td>\n",
       "      <td>619.0</td>\n",
       "      <td>1460.0</td>\n",
       "      <td>9210.0</td>\n",
       "      <td>20900.0</td>\n",
       "      <td>670.0</td>\n",
       "      <td>2330.0</td>\n",
       "      <td>2.57</td>\n",
       "    </tr>\n",
       "    <tr>\n",
       "      <th>4</th>\n",
       "      <td>2/1/1979</td>\n",
       "      <td>68600.0</td>\n",
       "      <td>546.0</td>\n",
       "      <td>1520.0</td>\n",
       "      <td>1910.0</td>\n",
       "      <td>710.0</td>\n",
       "      <td>1530.0</td>\n",
       "      <td>5340.0</td>\n",
       "      <td>11700.0</td>\n",
       "      <td>904.0</td>\n",
       "      <td>3780.0</td>\n",
       "      <td>1.77</td>\n",
       "    </tr>\n",
       "  </tbody>\n",
       "</table>\n",
       "</div>"
      ],
      "text/plain": [
       "      Months     Conc  Clinton Streamflow  Grafton Streamflow  \\\n",
       "0  10/1/1978  22600.0              1080.0              1900.0   \n",
       "1  11/1/1978  18500.0               910.0              1600.0   \n",
       "2  12/1/1978  65300.0               593.0              1470.0   \n",
       "3   1/1/1979  75700.0               502.0              1140.0   \n",
       "4   2/1/1979  68600.0               546.0              1520.0   \n",
       "\n",
       "   Herman Streamflow  Omaha Streamflow  Red River Streamflow  \\\n",
       "0             1920.0            1610.0                  91.7   \n",
       "1             2200.0            1610.0                 272.0   \n",
       "2             1530.0             895.0                 412.0   \n",
       "3              917.0             619.0                1460.0   \n",
       "4             1910.0             710.0                1530.0   \n",
       "\n",
       "   Cannelton Streamflow  Grand Chain Streamflow  Little Rock Streamflow  \\\n",
       "0                1250.0                  2570.0                    41.5   \n",
       "1                1840.0                  3630.0                   236.0   \n",
       "2                9460.0                 18500.0                   422.0   \n",
       "3                9210.0                 20900.0                   670.0   \n",
       "4                5340.0                 11700.0                   904.0   \n",
       "\n",
       "   Thebes Streamflow  Precip  \n",
       "0             4100.0    1.89  \n",
       "1             3940.0    2.87  \n",
       "2             3290.0    2.86  \n",
       "3             2330.0    2.57  \n",
       "4             3780.0    1.77  "
      ]
     },
     "execution_count": 50,
     "metadata": {},
     "output_type": "execute_result"
    }
   ],
   "source": [
    "#lists all dataframes which need to be merged\n",
    "merged = [outputdf, clintonf, graftonf, hermanf, omahaf, redf, canf, grandf, littlef, thebesf, precipf]\n",
    "\n",
    "#creates final dataframe with all input and output\n",
    "alldf = outputdf\n",
    "\n",
    "#merges two dataframes together into alldf then merges alldf with the next dataframe and so on\n",
    "for i in range(0, 10):\n",
    "    alldf = pd.merge(alldf, merged[i+1], how='inner', on='Months')\n",
    "    \n",
    "#drops rows with NaN (blank) values\n",
    "alldf.dropna(inplace = True)\n",
    "\n",
    "alldf.head()"
   ]
  },
  {
   "cell_type": "markdown",
   "metadata": {},
   "source": [
    "# Fitting Regression Models"
   ]
  },
  {
   "cell_type": "code",
   "execution_count": 51,
   "metadata": {
    "scrolled": true
   },
   "outputs": [],
   "source": [
    "#sets independent values (x) to all features (subbasin and precipitation data)\n",
    "x = alldf.drop(['Months', 'Conc'], axis = 1)\n",
    "\n",
    "#sets dependent value (y) to response (concentration of nitrogen in the Gulf of Mexico)\n",
    "y = alldf['Conc']\n",
    "\n",
    "#convert y from a 1d array to a 2d array\n",
    "yarray = numpy.array(y.values.tolist())\n",
    "y = yarray.reshape((444, 1))\n",
    "\n",
    "#scale x values (independent variables) to account for different units\n",
    "scaler = MinMaxScaler()\n",
    "x = scaler.fit_transform(x)\n",
    "y = scaler.fit_transform(y)"
   ]
  },
  {
   "cell_type": "code",
   "execution_count": 52,
   "metadata": {},
   "outputs": [],
   "source": [
    "#split data into training and testing sets for the models\n",
    "x_train, x_test, y_train, y_test = train_test_split(x, y, train_size = 0.5, random_state = 42)"
   ]
  },
  {
   "cell_type": "markdown",
   "metadata": {},
   "source": [
    "## Ridge Regression"
   ]
  },
  {
   "cell_type": "code",
   "execution_count": 53,
   "metadata": {},
   "outputs": [
    {
     "name": "stdout",
     "output_type": "stream",
     "text": [
      "Alpha: 0.44\n",
      "MSE: 0.008639321655160693\n",
      "R2 score: 0.8315643303001811\n",
      "Coeffecients:[[ 0.16325898  0.34643915  0.14429136  0.02116497  0.18802257  0.0630726\n",
      "   0.24450559  0.07965137  0.28746976 -0.12191444]]\n"
     ]
    }
   ],
   "source": [
    "#define model (tests which alpha to use using k-fold cv)\n",
    "cv = RepeatedKFold(n_splits=5, n_repeats=4, random_state=1)\n",
    "ridge = RidgeCV(alphas=arange(0, 2, 0.01), cv = cv)\n",
    "\n",
    "#fit data to model\n",
    "ridge.fit(x_train, y_train)\n",
    "\n",
    "#predict y values on test set\n",
    "y_predRidge = ridge.predict(x_test)\n",
    "\n",
    "#evaluate model using MSE and R2 score\n",
    "mseR = mean_squared_error(y_test, y_predRidge)\n",
    "r2R = r2_score(y_test, y_predRidge)\n",
    "print(\"Alpha: \" + str(ridge.alpha_))\n",
    "print(\"MSE: \" + str(mseR))\n",
    "print(\"R2 score: \" + str(r2R))\n",
    "print(\"Coeffecients:\" + str(ridge.coef_))"
   ]
  },
  {
   "cell_type": "markdown",
   "metadata": {},
   "source": [
    "## LASSO Regression"
   ]
  },
  {
   "cell_type": "code",
   "execution_count": 54,
   "metadata": {},
   "outputs": [
    {
     "name": "stdout",
     "output_type": "stream",
     "text": [
      "Alpha: 0.0002699950530389419\n",
      "MSE: 0.00840298154563718\n",
      "R2 score: 0.8361721115836506\n",
      "Coeffecients:[ 0.13048391  0.45019242  0.13297976  0.          0.18744616  0.\n",
      "  0.30634142  0.06911331  0.24228461 -0.12411852]\n"
     ]
    }
   ],
   "source": [
    "#define model (tests which alpha to use using k-fold cv)\n",
    "lasso = LassoCV(alphas=None, cv = cv)\n",
    "\n",
    "#changes y to a 1d array\n",
    "y_train = y_train.ravel()\n",
    "\n",
    "#fit data to model\n",
    "lasso.fit(x_train, y_train)\n",
    "\n",
    "#predict y values on test set\n",
    "y_predLasso = lasso.predict(x_test)\n",
    "\n",
    "#evaluate model using MSE and R2 score\n",
    "mseL = mean_squared_error(y_test, y_predLasso)\n",
    "r2L = r2_score(y_test, y_predLasso)\n",
    "print(\"Alpha: \" + str(lasso.alpha_))\n",
    "print(\"MSE: \" + str(mseL))\n",
    "print(\"R2 score: \" + str(r2L))\n",
    "print(\"Coeffecients:\" + str(lasso.coef_))\n"
   ]
  },
  {
   "cell_type": "markdown",
   "metadata": {},
   "source": [
    "## ElasticNet Regression"
   ]
  },
  {
   "cell_type": "code",
   "execution_count": 55,
   "metadata": {},
   "outputs": [
    {
     "name": "stdout",
     "output_type": "stream",
     "text": [
      "Alpha:0.000539990106077884\n",
      "MSE: 0.008375982614254372\n",
      "R2 score: 0.8366984935462813\n",
      "Coeffecients:[ 0.13906891  0.40280354  0.11631166  0.          0.18767353  0.00503105\n",
      "  0.29832503  0.06870463  0.28847722 -0.12083567]\n"
     ]
    }
   ],
   "source": [
    "#define model (tests which alpha to use using k-fold cv)\n",
    "elastic = ElasticNetCV(alphas=None, cv = cv)\n",
    "\n",
    "#fit data to model\n",
    "elastic.fit(x_train, y_train)\n",
    "\n",
    "#predict y values on test set\n",
    "y_predElastic = elastic.predict(x_test)\n",
    "\n",
    "#evaluate model using MSE and R2 score\n",
    "mseE = mean_squared_error(y_test, y_predElastic)\n",
    "r2E = r2_score(y_test, y_predElastic)\n",
    "print(\"Alpha:\" + str(elastic.alpha_))\n",
    "print(\"MSE: \" + str(mseE))\n",
    "print(\"R2 score: \" + str(r2E))\n",
    "print(\"Coeffecients:\" + str(elastic.coef_))"
   ]
  },
  {
   "cell_type": "code",
   "execution_count": null,
   "metadata": {},
   "outputs": [],
   "source": []
  }
 ],
 "metadata": {
  "kernelspec": {
   "display_name": "Python 3",
   "language": "python",
   "name": "python3"
  },
  "language_info": {
   "codemirror_mode": {
    "name": "ipython",
    "version": 3
   },
   "file_extension": ".py",
   "mimetype": "text/x-python",
   "name": "python",
   "nbconvert_exporter": "python",
   "pygments_lexer": "ipython3",
   "version": "3.8.3"
  }
 },
 "nbformat": 4,
 "nbformat_minor": 4
}
